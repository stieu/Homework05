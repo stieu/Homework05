{
 "cells": [
  {
   "cell_type": "markdown",
   "metadata": {},
   "source": [
    "# Homework 5: This or Physics Hack Day\n",
    "\n",
    "Physics 177, Spring 2017 (Prof. Tanedo)  \n",
    "Revised: Monday, May 15th  \n",
    "Due: Tuesday, May 16    \n",
    "\n",
    "*Samantha Tieu*\n",
    "\n",
    "**Important**: This homework is optional **if** you participate in Physics Hack Day:  \n",
    "http://theory.ucr.edu/PhysicsHackDay/\n",
    "\n",
    "If you do so, please delete all of the cells below and replace it with a link to the Physics Hack Day GitHub repository to which you contributed. \n"
   ]
  },
  {
   "cell_type": "markdown",
   "metadata": {},
   "source": [
    "## Problem 1: Double Pendulum\n",
    "\n",
    "In this problem, you will extend the simple pendulum in <a href=\"https://github.com/Physics177-2017/Homework04\">Homework 4</a> to a <a href=\"https://en.wikipedia.org/wiki/Double_pendulum\">double pendulum</a>.\n",
    "\n",
    "<img src=\"hw5pendulum.png\">  \n",
    "Image from <a href=\"https://commons.wikimedia.org/wiki/File:Double-Pendulum.svg\">Wikimedia Commons</a>\n",
    "\n",
    "Assume no forces other than gravity. Do not assume the small angle approximation. \n",
    "\n",
    "Plot the trajectory of the double pendulum for a few different initial conditions. Your goal is to reproduce the cool-looking trajectories in the  <a href=\"https://en.wikipedia.org/wiki/Double_pendulum\">Wikipedia article</a>, for example:\n",
    "\n",
    "<img src=\"hw5_doublepic.jpg\">\n",
    "\n",
    "** Update (5/15) **: you may use the equations of motion from exercise 8.14 of the book. This assumes equal masses and equal length pendulum rods.\n",
    "\n",
    "<img src=\"HW5_EOM.png\">\n",
    "\n",
    "** Check **: for the following parameters:\n",
    "\n",
    "`g = 9.8`  \n",
    "`dt = 0.01`  \n",
    "\n",
    "\n",
    "`L1 = 1.0`  \n",
    "`L2 = 1.0`  \n",
    "`m1 = 1.0`  \n",
    "`m2 = 1.0`  \n",
    "\n",
    "`omega1_init = 0.0`  \n",
    "`omega2_init = 0.0`\n",
    "\n",
    "I obtained:\n",
    "\n",
    "<img src=\"HW5_Prob1.png\">"
   ]
  },
  {
   "cell_type": "code",
   "execution_count": 7,
   "metadata": {
    "collapsed": false
   },
   "outputs": [],
   "source": [
    "import numpy as np\n",
    "import matplotlib.pyplot as plt\n",
    "from math import sin as sin\n",
    "from math import cos as cos\n",
    "\n",
    "\n",
    "g = 9.8\n",
    "dt = 0.01\n",
    "L1 = 1.0\n",
    "L2 = 1.0\n",
    "m1 = 1.0\n",
    "m2 = 1.0\n",
    "omega1_init = 0.0\n",
    "omega2_init = 0.0\n",
    "theta1_init = -90.0\n",
    "theta2_init = -90.0\n",
    "\n",
    "l = 1.0\n",
    "t_final = 5.0 \n",
    "\n",
    "def theta_one_dot(theta_1, theta_2, omega_1, omega_2, t):\n",
    "    \"\"\"d(theta1)/dt\"\"\"\n",
    "    return omega_1\n",
    "\n",
    "def omega_one_dot(theta_1, theta_2, omega_1, omega_2, t):\n",
    "    \"\"\"d(omega_1)/dt\"\"\"\n",
    "    return -((omega_1**2)*sin(2*theta_1-2*theta_2)+2*(omega_2**2)*sin(theta_1-theta_2)+(g/l)*(sin(theta_1 - 2*theta_2) + 3*sin(theta_1)))/(3-cos(2*theta_1-2*theta_2))\n",
    "\n",
    "def theta_two_dot(theta_1, theta_2, omega_1, omega_2, t):\n",
    "    \"\"\"d(theta_2)/dt\"\"\"\n",
    "    return omega_2\n",
    "def omega_two_dot(theta_1, theta_2, omega_1, omega_2, t):\n",
    "    \"\"\"d(omega_2)/dt\"\"\"\n",
    "    return (4*(omega_1**2)*sin(theta_1-theta_2) + (omega_2**2)*sin(2*theta_1-2*theta_2) + 2*(g/l)*(sin(2*theta_1-theta_2)-sin(theta_2)))/(3-cos(2*theta_1-2*theta_2))\n",
    "\n",
    "\n",
    "def time_and_angles_leapfrog():\n",
    "    theta_1 = theta1_init\n",
    "    theta_2 = theta2_init\n",
    "    omega_1 = omega1_init\n",
    "    omega_2 = omega2_init\n",
    "\n",
    "    tpoints = np.arange(0,t_final,dt)\n",
    "\n",
    "    theta_one_points = []\n",
    "    omega_one_points = []\n",
    "    theta_two_points = []\n",
    "    omega_two_points = []\n",
    "\n",
    "    theta_one_half = theta1_init + 0.5*dt*theta_one_dot(theta1_init, theta2_init, omega1_init, omega2_init, 0)\n",
    "    omega_one_half = omega1_init + 0.5*dt*omega_one_dot(theta1_init, theta2_init, omega1_init, omega2_init, 0)\n",
    "\n",
    "    theta_two_half = theta2_init + 0.5*dt*theta_two_dot(theta1_init, theta2_init, omega1_init, omega2_init, 0)\n",
    "    omega_two_half = omega2_init + 0.5*dt*omega_two_dot(theta1_init, theta2_init, omega1_init, omega2_init, 0)\n",
    "\n",
    "    for t in tpoints: \n",
    "    \n",
    "        theta_one_points.append(theta_1)\n",
    "        omega_one_points.append(omega_1)\n",
    "        theta_two_points.append(theta_2)\n",
    "        omega_two_points.append(omega_2)\n",
    "    \n",
    "        theta_1 += dt * theta_one_dot(theta_one_half, theta_two_half,omega_one_half, omega_two_half, t + .5*dt)    \n",
    "        theta_2 += dt * theta_two_dot(theta_one_half, theta_two_half,omega_one_half, omega_two_half, t + .5*dt)\n",
    "        omega_1 += dt * omega_one_dot(theta_one_half, theta_two_half, omega_one_half, omega_two_half, t + .5*dt)\n",
    "        omega_2 += dt * omega_two_dot(theta_one_half, theta_two_half, omega_one_half, omega_two_half, t + .5*dt) \n",
    "        \n",
    "        \n",
    "        theta_one_half += dt * theta_one_dot(theta_1, theta_2, omega_1, omega_2, t + dt)\n",
    "        theta_two_half += dt * theta_two_dot(theta_1, theta_2, omega_1, omega_2, t + dt)\n",
    "        omega_one_half += dt * omega_one_dot(theta_1, theta_2, omega_1,omega_2, t + dt)\n",
    "        omega_two_half += dt * omega_two_dot(theta_1, theta_2, omega_1,omega_2, t + dt)\n",
    "    \n",
    "    \n",
    "    \n",
    "    \n",
    "    \n",
    "    \n",
    "    tt = np.array(tpoints)\n",
    "    thetas1 = np.array(theta_one_points)\n",
    "    omegas1 = np.array(omega_one_points)\n",
    "    thetas2 = np.array(theta_two_points)\n",
    "    omegas2 = np.array(omega_two_points)\n",
    "    return tt, thetas1, omegas1, thetas2, omegas2\n",
    "\n",
    "\n",
    "times, thetas1_lf, omegas1_lf, thetas2_lf, omegas2_lf = time_and_angles_leapfrog()"
   ]
  },
  {
   "cell_type": "code",
   "execution_count": 8,
   "metadata": {
    "collapsed": false
   },
   "outputs": [
    {
     "data": {
      "image/png": "[encoded data removed]",
      "text/plain": [
       "<matplotlib.figure.Figure at 0x17dd3b02518>"
      ]
     },
     "metadata": {},
     "output_type": "display_data"
    }
   ],
   "source": [
    "x1 = l*np.sin(thetas1_lf)\n",
    "y1 = -l*np.cos(thetas1_lf)\n",
    "x2 = l*np.sin(thetas1_lf) + l*np.sin(thetas2_lf)\n",
    "y2 = -l*np.cos(thetas1_lf) - l*np.cos(thetas2_lf)\n",
    "\n",
    "plt.plot(x1, y1, label='Bob 1')\n",
    "plt.plot(x2, y2, label='Bob 2')\n",
    "plt.title(\"Double Pendulum\")\n",
    "plt.xlabel('y position')\n",
    "plt.ylabel('x posotion')\n",
    "plt.legend()\n",
    "plt.show()\n",
    "\n"
   ]
  },
  {
   "cell_type": "markdown",
   "metadata": {},
   "source": [
    "## Problem 1, extra credit:\n",
    "\n",
    "I think the double pendulum trajectories are really neat. They're a very simple system with surprisingly complex behavior. (Maybe it's just surprising to me?) For extra credit (or for inspiration for Physics Hack Day), consider some of the following:\n",
    "\n",
    "* Make an animation of the double pendulum trajectory. You can simultaneously animate the trajectories of both weights, see <a href=\"https://en.wikipedia.org/wiki/Double_pendulum#/media/File:Trajektorie_eines_Doppelpendels.gif\">this  example</a>. \n",
    "* In your animation above, can you also do the \"gradual fading\" of the older trajectory points that is demonstrated in the example?\n",
    "* Here's something really cool: can you **sonify** the trajectory? Map the *velocity* of the mass to a pitch and then play the pitch as the pendulum moves. In this way, you model the *Doppler shift* of a buzzer attached to the double pendulum. You can find an example of the implementation of the `scipy` sound library <a href=\"https://losc.ligo.org/s/events/GW150914/GW150914_tutorial.html\">here</a>... which is itself a fantastic example of a Jupyter notebook in Nobel-prize-worthy research.\n",
    "* Triple pendulum?! (If you need inspiration: https://www.youtube.com/watch?v=OQSNhk5ICTI) ... *no, it turns out that this is really hard.*"
   ]
  },
  {
   "cell_type": "markdown",
   "metadata": {},
   "source": [
    "## Problem 2: Poisson Equation\n",
    "\n",
    "The Poisson equation in two dimension is:\n",
    "\n",
    "$$\\displaystyle \\partial_x^2 \\phi(x,y) + \\partial_y^2 \\phi(x,y) = -\\rho(x,y)$$\n",
    "\n",
    "We have picked units where $\\varepsilon_0 = 1$ and $\\rho$ is the charge density.\n",
    "\n",
    "This is similar to the <a href=\"https://github.com/Physics177-2017/Lec11-PDE/blob/master/Lecture%2011%20Preview.ipynb\">Lecture 11</a> demo, except that now there are source charges. \n",
    "\n",
    "Numerically solve the Poisson equation following two dimensional system (Newman Example 9.2):\n",
    "\n",
    "<img src=\"HW5_NewmanFig9.4.png\">\n",
    "\n",
    "This is a 2D with size 100 cm by 100 cm. There are smaller 20 cm by 20 cm squares. The one on the upper right has charge density $\\rho = +1/\\text{cm}^2$ and the one on the lower left has charge density $\\rho = -1/\\text{cm}^2$. The boundaries of the large square are set to zero potential. \n",
    "\n",
    "Solve for the potential, $\\phi$, everywhere in the large square. Plot the potential. I leave it to you to pick a discretization (step size) that is sufficiently fast while also demonstrating the correct behavior. \n",
    "\n",
    "Hint: before you do anything, you should guess what the expected result should be."
   ]
  },
  {
   "cell_type": "code",
   "execution_count": 9,
   "metadata": {
    "collapsed": false
   },
   "outputs": [
    {
     "name": "stdout",
     "output_type": "stream",
     "text": [
      "[[ 0.  0.  0.  0.  0.  0.  0.  0.  0.  0.]\n",
      " [ 0.  0.  0.  0.  0.  0.  0.  0.  0.  0.]\n",
      " [ 0.  0.  0.  0.  0.  0.  1.  1.  0.  0.]\n",
      " [ 0.  0.  0.  0.  0.  0.  1.  1.  0.  0.]\n",
      " [ 0.  0.  0.  0.  0.  0.  0.  0.  0.  0.]\n",
      " [ 0.  0.  0.  0.  0.  0.  0.  0.  0.  0.]\n",
      " [ 0.  0. -1. -1.  0.  0.  0.  0.  0.  0.]\n",
      " [ 0.  0. -1. -1.  0.  0.  0.  0.  0.  0.]\n",
      " [ 0.  0.  0.  0.  0.  0.  0.  0.  0.  0.]\n",
      " [ 0.  0.  0.  0.  0.  0.  0.  0.  0.  0.]]\n"
     ]
    }
   ],
   "source": [
    "import numpy as np\n",
    "\n",
    "# Constants\n",
    "M = 9        # grid squares per side\n",
    "V = 1.0        # Voltage at the top\n",
    "target = 1e-2  # target accuracy\n",
    "\n",
    "# arrays\n",
    "phi = np.zeros([M+1,M+1],float) # initialize\n",
    "phi[2,6] = 1.\n",
    "phi[3,6] = 1.\n",
    "phi[2,7] = 1.\n",
    "phi[3,7] = 1.\n",
    "\n",
    "phi[6,2] = -1.\n",
    "phi[6,3] = -1.\n",
    "phi[7,2] = -1.\n",
    "phi[7,3] = -1.\n",
    "\n",
    "\n",
    "phiprime = np.zeros([M+1, M+1],float) # container for new values\n",
    "\n",
    "print(phi)\n",
    "\n",
    "# Main Loop\n",
    "delta = 1.0\n",
    "while delta > target:\n",
    "    # calculate new values of the potential\n",
    "\n",
    "    for i in range(M+1):\n",
    "        for j in range(M+1):\n",
    "\n",
    "            # if boundary\n",
    "            if i==0 or i==M or j==0 or j==M:\n",
    "                phiprime[i,j] = phi[i,j]\n",
    "            else:\n",
    "                phiprime[i,j] = (phi[i+1,j] + phi[i-1,j] + phi[i,j+1] + phi[i,j-1])/4.\n",
    "    \n",
    "    # NOTE: indentation is very important!\n",
    "    # convergence check\n",
    "    delta = np.max(np.abs(phi-phiprime))\n",
    "            \n",
    "    # swap arrays\n",
    "    phi, phiprime = phiprime, phi\n",
    "\n",
    "            \n",
    "# print(phi)"
   ]
  },
  {
   "cell_type": "code",
   "execution_count": 10,
   "metadata": {
    "collapsed": false
   },
   "outputs": [
    {
     "data": {
      "image/png": "[encoded data removed]",
      "text/plain": [
       "<matplotlib.figure.Figure at 0x17dd3417f98>"
      ]
     },
     "metadata": {},
     "output_type": "display_data"
    }
   ],
   "source": [
    "import matplotlib.pyplot as plt\n",
    "\n",
    "xx, yy = np.meshgrid(np.arange(M+1),np.arange(M+1))\n",
    "plt.pcolormesh(xx,yy,phi)\n",
    "plt.colorbar()\n",
    "plt.show()"
   ]
  },
  {
   "cell_type": "code",
   "execution_count": null,
   "metadata": {
    "collapsed": true
   },
   "outputs": [],
   "source": []
  }
 ],
 "metadata": {
  "kernelspec": {
   "display_name": "Python 3",
   "language": "python",
   "name": "python3"
  },
  "language_info": {
   "codemirror_mode": {
    "name": "ipython",
    "version": 3
   },
   "file_extension": ".py",
   "mimetype": "text/x-python",
   "name": "python",
   "nbconvert_exporter": "python",
   "pygments_lexer": "ipython3",
   "version": "3.6.0"
  }
 },
 "nbformat": 4,
 "nbformat_minor": 2
}
